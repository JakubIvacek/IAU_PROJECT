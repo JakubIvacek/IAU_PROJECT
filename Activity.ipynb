{
 "cells": [
  {
   "metadata": {},
   "cell_type": "markdown",
   "source": [
    "# Activity\n",
    "### Q2 Netflix 10+ Year Stock Data\n",
    "#### Petrina 50%, Ivacek 50%"
   ],
   "id": "e29f02b0bbaf58ca"
  },
  {
   "metadata": {},
   "cell_type": "markdown",
   "source": [
    "## 4.1 EDA and data preprocessing \t(5b) \n",
    "### (A-4b)\tEDA a data preprocessing pre Vami vybrané charakteristiky z datasetu \n"
   ],
   "id": "513bebd5455b41ec"
  },
  {
   "cell_type": "code",
   "execution_count": null,
   "id": "initial_id",
   "metadata": {
    "collapsed": true
   },
   "outputs": [],
   "source": [
    ""
   ]
  },
  {
   "metadata": {},
   "cell_type": "markdown",
   "source": "### (B-1b)\tZdôvodnite výber ML/DL metód vzhľadom na Vami vybraný dataset pre 4.2",
   "id": "17dc27becc73e691"
  },
  {
   "metadata": {},
   "cell_type": "code",
   "outputs": [],
   "execution_count": null,
   "source": "",
   "id": "47f92749250fa8bf"
  },
  {
   "metadata": {},
   "cell_type": "markdown",
   "source": [
    "## 4.2. Modeling and evaluation (5b)\n",
    "### (A-4b)\tModeluje Vami tie vybrané charakteristiky pomocou vhodných ML/D metód. Výsledok modelovania je najlepší model.\n"
   ],
   "id": "4d8d08fa8c29e806"
  },
  {
   "metadata": {},
   "cell_type": "code",
   "outputs": [],
   "execution_count": null,
   "source": "",
   "id": "4849c0d5a252f806"
  },
  {
   "metadata": {},
   "cell_type": "markdown",
   "source": "### (B-1b)\tZhodnotíte Váš prístup a získaný výsledok",
   "id": "51cde46be32827a8"
  },
  {
   "metadata": {},
   "cell_type": "code",
   "outputs": [],
   "execution_count": null,
   "source": "",
   "id": "ef571f25349734e5"
  }
 ],
 "metadata": {
  "kernelspec": {
   "display_name": "Python 3",
   "language": "python",
   "name": "python3"
  },
  "language_info": {
   "codemirror_mode": {
    "name": "ipython",
    "version": 2
   },
   "file_extension": ".py",
   "mimetype": "text/x-python",
   "name": "python",
   "nbconvert_exporter": "python",
   "pygments_lexer": "ipython2",
   "version": "2.7.6"
  }
 },
 "nbformat": 4,
 "nbformat_minor": 5
}
